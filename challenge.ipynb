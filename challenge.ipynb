{
 "cells": [
  {
   "cell_type": "code",
   "execution_count": 1,
   "metadata": {},
   "outputs": [],
   "source": [
    "import requests\n",
    "import os\n",
    "import json"
   ]
  },
  {
   "cell_type": "code",
   "execution_count": null,
   "metadata": {},
   "outputs": [],
   "source": [
    "for i in range(1000):\n",
    "    url = \"https://api.thecatapi.com/v1/images/search\"\n",
    "    response = requests.get(url)\n",
    "    data = response.json()\n",
    "    image_url = data[0]['url']\n",
    "    image = requests.get(image_url)\n",
    "    with open('training_set/cats/cat.{}.jpg'.format(i), 'wb') as f:\n",
    "        f.write(image.content)\n",
    "    os.rename('training_set/cats/cat.{}.jpg'.format(i), 'training_set/cats/train_{}.jpg'.format(i))"
   ]
  },
  {
   "cell_type": "code",
   "execution_count": 3,
   "metadata": {},
   "outputs": [],
   "source": [
    "for i in range(1000):\n",
    "    url = \"https://dog.ceo/api/breeds/image/random\"\n",
    "    response = requests.get(url)\n",
    "    data = response.json()\n",
    "    image_url = data['message']\n",
    "    image = requests.get(image_url)\n",
    "    with open('training_set/dogs/dog.{}.jpg'.format(i), 'wb') as f:\n",
    "        f.write(image.content)\n",
    "    os.rename('training_set/dogs/dog.{}.jpg'.format(i), 'training_set/dogs/train_{}.jpg'.format(i))"
   ]
  },
  {
   "cell_type": "code",
   "execution_count": null,
   "metadata": {},
   "outputs": [],
   "source": [
    "for i in range(100):\n",
    "    url = \"https://api.thecatapi.com/v1/images/search\"\n",
    "    response = requests.get(url)\n",
    "    data = response.json()\n",
    "    image_url = data[0]['url']\n",
    "    image = requests.get(image_url)\n",
    "    with open('test_set/cats/cat.{}.jpg'.format(i), 'wb') as f:\n",
    "        f.write(image.content)\n",
    "    os.rename('test_set/cats/cat.{}.jpg'.format(i), 'test_set/cats/test_{}.jpg'.format(i))"
   ]
  },
  {
   "cell_type": "code",
   "execution_count": null,
   "metadata": {},
   "outputs": [],
   "source": [
    "for i in range(100):\n",
    "    url = \"https://dog.ceo/api/breeds/image/random\"\n",
    "    response = requests.get(url)\n",
    "    data = response.json()\n",
    "    image_url = data['message']\n",
    "    image = requests.get(image_url)\n",
    "    with open('test_set/dogs/dog.{}.jpg'.format(i), 'wb') as f:\n",
    "        f.write(image.content)\n",
    "    os.rename('test_set/dogs/dog.{}.jpg'.format(i), 'test_set/dogs/test_{}.jpg'.format(i))"
   ]
  },
  {
   "cell_type": "code",
   "execution_count": 6,
   "metadata": {},
   "outputs": [
    {
     "name": "stdout",
     "output_type": "stream",
     "text": [
      "Found 8000 images belonging to 2 classes.\n",
      "Found 1999 images belonging to 2 classes.\n"
     ]
    },
    {
     "name": "stderr",
     "output_type": "stream",
     "text": [
      "2022-12-05 22:07:41.791766: I tensorflow/core/platform/cpu_feature_guard.cc:193] This TensorFlow binary is optimized with oneAPI Deep Neural Network Library (oneDNN) to use the following CPU instructions in performance-critical operations:  AVX2 FMA\n",
      "To enable them in other operations, rebuild TensorFlow with the appropriate compiler flags.\n"
     ]
    }
   ],
   "source": [
    "import tensorflow as tf\n",
    "from tensorflow.keras.preprocessing.image import ImageDataGenerator\n",
    "from tensorflow.keras.preprocessing import image\n",
    "import numpy as np\n",
    "import matplotlib.pyplot as plt\n",
    "\n",
    "train_datagen = ImageDataGenerator(rescale=1./255,\n",
    "                                    shear_range=0.2,\n",
    "                                    zoom_range=0.2,\n",
    "                                    horizontal_flip=True)\n",
    "\n",
    "test_datagen = ImageDataGenerator(rescale=1./255)\n",
    "\n",
    "training_set = train_datagen.flow_from_directory('dataset/training_set',\n",
    "                                                  target_size=(64, 64),\n",
    "                                                  batch_size=32,\n",
    "                                                  class_mode='binary')\n",
    "\n",
    "test_set = test_datagen.flow_from_directory('dataset/test_set',\n",
    "                                              target_size=(64, 64),\n",
    "                                              batch_size=32,\n",
    "                                              class_mode='binary')\n",
    "\n",
    "cnn = tf.keras.models.Sequential()\n",
    "cnn.add(tf.keras.layers.Conv2D(filters=32, kernel_size=3, activation='relu', input_shape=[64, 64, 3]))\n",
    "cnn.add(tf.keras.layers.MaxPool2D(pool_size=2, strides=2))\n",
    "cnn.add(tf.keras.layers.Conv2D(filters=32, kernel_size=3, activation='relu'))\n",
    "cnn.add(tf.keras.layers.MaxPool2D(pool_size=2, strides=2))\n",
    "cnn.add(tf.keras.layers.Flatten())\n",
    "cnn.add(tf.keras.layers.Dense(units=128, activation='relu'))\n",
    "cnn.add(tf.keras.layers.Dense(units=1, activation='sigmoid'))\n",
    "cnn.compile(optimizer='adam', loss='binary_crossentropy', metrics=['accuracy'])"
   ]
  },
  {
   "cell_type": "code",
   "execution_count": null,
   "metadata": {},
   "outputs": [],
   "source": [
    "from tensorflow.keras.preprocessing.image import ImageDataGenerator\n",
    "\n",
    "train_datagen = ImageDataGenerator(rescale=1./255,\n",
    "                                    shear_range=0.2,\n",
    "                                    zoom_range=0.2,\n",
    "                                    horizontal_flip=True)\n",
    "\n",
    "training_set = train_datagen.flow_from_directory('dataset/training_set',\n",
    "                                                    target_size=(64, 64),\n",
    "                                                    batch_size=32,\n",
    "                                                    class_mode='binary')"
   ]
  },
  {
   "cell_type": "code",
   "execution_count": 8,
   "metadata": {},
   "outputs": [
    {
     "name": "stdout",
     "output_type": "stream",
     "text": [
      "Epoch 1/25\n",
      "250/250 [==============================] - 46s 183ms/step - loss: 0.4816 - accuracy: 0.7674 - val_loss: 0.4861 - val_accuracy: 0.7689\n",
      "Epoch 2/25\n",
      "250/250 [==============================] - 39s 157ms/step - loss: 0.4628 - accuracy: 0.7761 - val_loss: 0.5459 - val_accuracy: 0.7354\n",
      "Epoch 3/25\n",
      "250/250 [==============================] - 38s 153ms/step - loss: 0.4453 - accuracy: 0.7944 - val_loss: 0.4909 - val_accuracy: 0.7724\n",
      "Epoch 4/25\n",
      "250/250 [==============================] - 39s 156ms/step - loss: 0.4263 - accuracy: 0.7996 - val_loss: 0.4975 - val_accuracy: 0.7664\n",
      "Epoch 5/25\n",
      "250/250 [==============================] - 39s 156ms/step - loss: 0.4297 - accuracy: 0.8009 - val_loss: 0.4877 - val_accuracy: 0.7769\n",
      "Epoch 6/25\n",
      "250/250 [==============================] - 54s 215ms/step - loss: 0.4107 - accuracy: 0.8109 - val_loss: 0.4500 - val_accuracy: 0.7944\n",
      "Epoch 7/25\n",
      "250/250 [==============================] - 77s 307ms/step - loss: 0.3990 - accuracy: 0.8148 - val_loss: 0.4800 - val_accuracy: 0.7854\n",
      "Epoch 8/25\n",
      "250/250 [==============================] - 56s 225ms/step - loss: 0.3863 - accuracy: 0.8259 - val_loss: 0.5100 - val_accuracy: 0.7749\n",
      "Epoch 9/25\n",
      "250/250 [==============================] - 46s 182ms/step - loss: 0.3744 - accuracy: 0.8235 - val_loss: 0.4318 - val_accuracy: 0.8069\n",
      "Epoch 10/25\n",
      "250/250 [==============================] - 41s 166ms/step - loss: 0.3613 - accuracy: 0.8388 - val_loss: 0.4826 - val_accuracy: 0.7904\n",
      "Epoch 11/25\n",
      "250/250 [==============================] - 42s 167ms/step - loss: 0.3465 - accuracy: 0.8430 - val_loss: 0.4933 - val_accuracy: 0.7924\n",
      "Epoch 12/25\n",
      "250/250 [==============================] - 42s 169ms/step - loss: 0.3361 - accuracy: 0.8476 - val_loss: 0.4376 - val_accuracy: 0.8094\n",
      "Epoch 13/25\n",
      "250/250 [==============================] - 42s 166ms/step - loss: 0.3175 - accuracy: 0.8560 - val_loss: 0.4454 - val_accuracy: 0.8099\n",
      "Epoch 14/25\n",
      "250/250 [==============================] - 41s 166ms/step - loss: 0.3060 - accuracy: 0.8609 - val_loss: 0.4831 - val_accuracy: 0.8044\n",
      "Epoch 15/25\n",
      "250/250 [==============================] - 42s 167ms/step - loss: 0.3014 - accuracy: 0.8679 - val_loss: 0.4409 - val_accuracy: 0.8099\n",
      "Epoch 16/25\n",
      "250/250 [==============================] - 43s 171ms/step - loss: 0.2787 - accuracy: 0.8840 - val_loss: 0.4794 - val_accuracy: 0.7914\n",
      "Epoch 17/25\n",
      "250/250 [==============================] - 42s 166ms/step - loss: 0.2690 - accuracy: 0.8896 - val_loss: 0.4677 - val_accuracy: 0.8074\n",
      "Epoch 18/25\n",
      "250/250 [==============================] - 42s 166ms/step - loss: 0.2599 - accuracy: 0.8916 - val_loss: 0.4503 - val_accuracy: 0.8094\n",
      "Epoch 19/25\n",
      "250/250 [==============================] - 42s 169ms/step - loss: 0.2567 - accuracy: 0.8904 - val_loss: 0.4789 - val_accuracy: 0.8069\n",
      "Epoch 20/25\n",
      "250/250 [==============================] - 42s 166ms/step - loss: 0.2335 - accuracy: 0.9053 - val_loss: 0.4846 - val_accuracy: 0.8179\n",
      "Epoch 21/25\n",
      "250/250 [==============================] - 42s 166ms/step - loss: 0.2185 - accuracy: 0.9086 - val_loss: 0.5069 - val_accuracy: 0.8044\n",
      "Epoch 22/25\n",
      "250/250 [==============================] - 41s 165ms/step - loss: 0.2073 - accuracy: 0.9141 - val_loss: 0.5068 - val_accuracy: 0.8144\n",
      "Epoch 23/25\n",
      "250/250 [==============================] - 42s 169ms/step - loss: 0.2030 - accuracy: 0.9143 - val_loss: 0.5938 - val_accuracy: 0.7789\n",
      "Epoch 24/25\n",
      "250/250 [==============================] - 58s 232ms/step - loss: 0.1879 - accuracy: 0.9254 - val_loss: 0.5293 - val_accuracy: 0.8029\n",
      "Epoch 25/25\n",
      "250/250 [==============================] - 53s 210ms/step - loss: 0.1831 - accuracy: 0.9269 - val_loss: 0.5873 - val_accuracy: 0.7959\n"
     ]
    },
    {
     "data": {
      "text/plain": [
       "<keras.callbacks.History at 0x1640cc250>"
      ]
     },
     "execution_count": 8,
     "metadata": {},
     "output_type": "execute_result"
    }
   ],
   "source": [
    "cnn.fit(x=training_set, validation_data=test_set, epochs=25)"
   ]
  },
  {
   "cell_type": "code",
   "execution_count": null,
   "metadata": {},
   "outputs": [],
   "source": [
    "cnn.save('cnn.h5')"
   ]
  },
  {
   "cell_type": "code",
   "execution_count": 31,
   "metadata": {},
   "outputs": [
    {
     "name": "stdout",
     "output_type": "stream",
     "text": [
      "1/1 [==============================] - 0s 87ms/step\n"
     ]
    },
    {
     "name": "stderr",
     "output_type": "stream",
     "text": [
      "Clipping input data to the valid range for imshow with RGB data ([0..1] for floats or [0..255] for integers).\n"
     ]
    },
    {
     "name": "stdout",
     "output_type": "stream",
     "text": [
      "0.0\n",
      "cat\n"
     ]
    },
    {
     "data": {
      "image/png": "[encoded data removed]",
      "text/plain": [
       "<Figure size 640x480 with 1 Axes>"
      ]
     },
     "metadata": {},
     "output_type": "display_data"
    }
   ],
   "source": [
    "import requests\n",
    "from tensorflow.keras.preprocessing import image\n",
    "from tensorflow.keras.models import load_model\n",
    "import numpy as np\n",
    "import matplotlib.pyplot as plt\n",
    "\n",
    "# uncomment to get a random pic of a dog or cat\n",
    "# url = \"https://api.thecatapi.com/v1/images/search\"\n",
    "# response = requests.get(url)\n",
    "# data = response.json()\n",
    "# image_url = data[0]['url']\n",
    "# img = requests.get(image_url)\n",
    "\n",
    "# with open('test_image.jpg', 'wb') as f:\n",
    "#     f.write(img.content)\n",
    "\n",
    "test_image = image.load_img('test_image.jpg', target_size=(64, 64))\n",
    "\n",
    "test_image = image.img_to_array(test_image)\n",
    "\n",
    "test_image = np.expand_dims(test_image, axis=0)\n",
    "\n",
    "cnn = load_model('cnn.h5')\n",
    "\n",
    "result = cnn.predict(test_image)\n",
    "\n",
    "print(result[0][0])\n",
    "\n",
    "if result[0][0] == 1:\n",
    "    prediction = 'dog'\n",
    "else:\n",
    "    prediction = 'cat'\n",
    "\n",
    "print(prediction)\n",
    "\n",
    "plt.imshow(test_image[0])\n",
    "plt.show()"
   ]
  },
  {
   "cell_type": "code",
   "execution_count": null,
   "metadata": {},
   "outputs": [],
   "source": [
    "\n"
   ]
  }
 ],
 "metadata": {
  "kernelspec": {
   "display_name": "Python 3.10.5 64-bit",
   "language": "python",
   "name": "python3"
  },
  "language_info": {
   "codemirror_mode": {
    "name": "ipython",
    "version": 3
   },
   "file_extension": ".py",
   "mimetype": "text/x-python",
   "name": "python",
   "nbconvert_exporter": "python",
   "pygments_lexer": "ipython3",
   "version": "3.10.5"
  },
  "orig_nbformat": 4,
  "vscode": {
   "interpreter": {
    "hash": "aee8b7b246df8f9039afb4144a1f6fd8d2ca17a180786b69acc140d282b71a49"
   }
  }
 },
 "nbformat": 4,
 "nbformat_minor": 2
}
